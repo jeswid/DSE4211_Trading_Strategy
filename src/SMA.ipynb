{
 "cells": [
  {
   "cell_type": "code",
   "execution_count": null,
   "metadata": {
    "vscode": {
     "languageId": "plaintext"
    }
   },
   "outputs": [],
   "source": [
    "import pandas as pd\n",
    "import numpy as np\n",
    "import matplotlib.pyplot as plt\n",
    "from datetime import datetime, timedelta\n",
    "\n"
   ]
  },
  {
   "cell_type": "code",
   "execution_count": null,
   "metadata": {
    "vscode": {
     "languageId": "plaintext"
    }
   },
   "outputs": [],
   "source": [
    "spy = pd.read_excel('../data/pricing_data.xlsx', sheet_name='SPY')\n",
    "\n",
    "# Convert the 'Date' column to datetime format\n",
    "spy['Date'] = pd.to_datetime(spy['Date'])\n",
    "\n",
    "# Sort by date\n",
    "spy = spy.sort_values(by='Date')\n",
    "\n",
    "# Reset index if needed\n",
    "spy.reset_index(drop=True, inplace=True)"
   ]
  },
  {
   "cell_type": "code",
   "execution_count": null,
   "metadata": {
    "vscode": {
     "languageId": "plaintext"
    }
   },
   "outputs": [],
   "source": [
    "btc = pd.read_excel(\"../data/pricing_data.xlsx\", sheet_name='BTCUSD')\n",
    "\n",
    "# Convert the 'Date' column to datetime format\n",
    "btc['Date'] = pd.to_datetime(btc['Date'])\n",
    "\n",
    "# Sort by date\n",
    "btc = btc.sort_values(by='Date')\n",
    "\n",
    "# Reset index if needed\n",
    "btc.reset_index(drop=True, inplace=True)\n"
   ]
  },
  {
   "cell_type": "code",
   "execution_count": null,
   "metadata": {
    "vscode": {
     "languageId": "plaintext"
    }
   },
   "outputs": [],
   "source": [
    "tlt = pd.read_excel(\"../data/pricing_data.xlsx\", sheet_name='TLT - iShares 20+ Year Bond')\n",
    "\n",
    "# Convert the 'Date' column to datetime format\n",
    "tlt['Date'] = pd.to_datetime(tlt['Date'])\n",
    "\n",
    "# Sort by date\n",
    "tlt = tlt.sort_values(by='Date')\n",
    "\n",
    "# Reset index if needed\n",
    "tlt.reset_index(drop=True, inplace=True)\n"
   ]
  },
  {
   "cell_type": "code",
   "execution_count": null,
   "metadata": {
    "vscode": {
     "languageId": "plaintext"
    }
   },
   "outputs": [],
   "source": [
    "# Initial configuration\n",
    "INITIAL_CAPITAL = 1000000\n",
    "TREASURY_YIELD = 0.045  # Assuming 4.5% annual yield for 3-month treasury\n",
    "REBALANCE_THRESHOLD = 0.05  # 5% drift triggers rebalancing\n",
    "\n",
    "# Initial allocation (starting point)\n",
    "initial_allocation = {\n",
    "    'CASH': 0.25,\n",
    "    'BTC': 0.25,\n",
    "    'SPY': 0.25,\n",
    "    'TLT': 0.25\n",
    "}\n"
   ]
  },
  {
   "cell_type": "code",
   "execution_count": null,
   "metadata": {
    "vscode": {
     "languageId": "plaintext"
    }
   },
   "outputs": [],
   "source": [
    "def generate_signals(df):\n",
    "    \"\"\"Generate trading signals based on SMA crossovers\"\"\"\n",
    "    signals = pd.DataFrame(index=df.index)\n",
    "    signals['price'] = df['Close']\n",
    "    \n",
    "    # SMA crossover signals\n",
    "    signals['sma5_10'] = np.where(df['SMAVG (5)'] > df['SMAVG (10)'], 1, -1)\n",
    "    signals['sma10_15'] = np.where(df['SMAVG (10)'] > df['SMAVG (15)'], 1, -1)\n",
    "    \n",
    "    # Combine signals (range: -2 to +2)\n",
    "    signals['signal'] = signals['sma5_10'] + signals['sma10_15']\n",
    "    \n",
    "    # Momentum calculation (optional but valuable)\n",
    "    signals['momentum'] = df['Close'].pct_change(5)\n",
    "    \n",
    "    return signals\n",
    "\n",
    "\n",
    "#An SMA crossover occurs when one SMA crosses above or below another SMA.\n",
    "# For example:\n",
    "# If SMAVG (5) > SMAVG (10), it indicates a short-term bullish trend → Signal = 1.\n",
    "# If SMAVG (5) ≤ SMAVG (10), it indicates a short-term bearish trend → Signal = -1.\n",
    "# Similarly:\n",
    "# If SMAVG (10) > SMAVG (15), it indicates a medium-term bullish trend → Signal = 1.\n",
    "# If SMAVG (10) ≤ SMAVG (15), it indicates a medium-term bearish trend → Signal = -1.\n",
    "\n",
    "#The two SMA signals are combined into a single signal:\n",
    "# Possible values for 'signal':\n",
    "# +2: Strong bullish trend (sma5_10 = 1 and sma10_15 = 1).\n",
    "# +1: Mild bullish trend (one SMA signal is bullish, the other is neutral or bearish).\n",
    "# 0: Neutral trend (the two SMA signals cancel each other out).\n",
    "# -1: Mild bearish trend.\n",
    "# -2: Strong bearish trend (sma5_10 = -1 and sma10_15 = -1).\n",
    "\n"
   ]
  },
  {
   "cell_type": "code",
   "execution_count": null,
   "metadata": {
    "vscode": {
     "languageId": "plaintext"
    }
   },
   "outputs": [],
   "source": [
    "def determine_allocation(cash_rate, btc_signal, spy_signal, tlt_signal, current_allocation):\n",
    "    \"\"\"Determine optimal allocation based on technical signals\"\"\"\n",
    "    \n",
    "    # Base allocation - equal weight\n",
    "    new_allocation = {\n",
    "        'CASH': 0.25,\n",
    "        'BTC': 0.25,\n",
    "        'SPY': 0.25,\n",
    "        'TLT': 0.25\n",
    "    }\n",
    "    \n",
    "    # Adjust based on technical signals\n",
    "    # Scale: -2 (very bearish) to +2 (very bullish)\n",
    "    \n",
    "    # SPY adjustment\n",
    "    if spy_signal['signal'].iloc[-1] == 2:  # Very bullish\n",
    "        new_allocation['SPY'] = 0.35\n",
    "        new_allocation['CASH'] = 0.15\n",
    "    elif spy_signal['signal'].iloc[-1] == -2:  # Very bearish\n",
    "        new_allocation['SPY'] = 0.15\n",
    "        new_allocation['CASH'] = 0.35\n",
    "    \n",
    "    # BTC adjustment - tends to be more volatile, so slightly more conservative\n",
    "    if btc_signal['signal'].iloc[-1] == 2:  # Very bullish\n",
    "        new_allocation['BTC'] = 0.30\n",
    "    elif btc_signal['signal'].iloc[-1] == -2:  # Very bearish\n",
    "        new_allocation['BTC'] = 0.15\n",
    "        new_allocation['CASH'] += 0.05  # Increase cash further\n",
    "    \n",
    "    # TLT adjustment - often moves inverse to equities\n",
    "    if tlt_signal['signal'].iloc[-1] == 2:  # Very bullish\n",
    "        new_allocation['TLT'] = 0.35\n",
    "    elif tlt_signal['signal'].iloc[-1] == -2:  # Very bearish\n",
    "        new_allocation['TLT'] = 0.15\n",
    "    \n",
    "    # Special case: if all risk assets are bearish, increase cash significantly\n",
    "    if all(x['signal'].iloc[-1] < 0 for x in [btc_signal, spy_signal, tlt_signal]):\n",
    "        new_allocation['CASH'] = 0.40\n",
    "        # Reduce others proportionally\n",
    "        factor = 0.60 / sum([new_allocation['BTC'], new_allocation['SPY'], new_allocation['TLT']])\n",
    "        new_allocation['BTC'] *= factor\n",
    "        new_allocation['SPY'] *= factor\n",
    "        new_allocation['TLT'] *= factor\n",
    "    \n",
    "    # Normalize to ensure sum = 1\n",
    "    total = sum(new_allocation.values())\n",
    "    for key in new_allocation:\n",
    "        new_allocation[key] /= total\n",
    "    \n",
    "    return new_allocation\n"
   ]
  },
  {
   "cell_type": "code",
   "execution_count": null,
   "metadata": {
    "vscode": {
     "languageId": "plaintext"
    }
   },
   "outputs": [],
   "source": [
    "def handle_btc_off_hours(btc_signal, current_allocation, portfolio_value):\n",
    "    \"\"\"Special handling for BTC during weekend/off-hours\"\"\"\n",
    "    new_allocation = current_allocation.copy()\n",
    "    \n",
    "    # Only adjust BTC allocation during off-hours based on its signal\n",
    "    if btc_signal['signal'].iloc[-1] >= 1:  # Bullish\n",
    "        # Increase BTC slightly (max 5%)\n",
    "        new_btc = min(current_allocation['BTC'] + 0.05, 0.35)\n",
    "        adjustment = new_btc - current_allocation['BTC']\n",
    "        \n",
    "        # Reduce cash accordingly\n",
    "        new_allocation['BTC'] = new_btc\n",
    "        new_allocation['CASH'] = max(0.10, current_allocation['CASH'] - adjustment)\n",
    "        \n",
    "    elif btc_signal['signal'].iloc[-1] <= -1:  # Bearish\n",
    "        # Decrease BTC slightly\n",
    "        new_btc = max(current_allocation['BTC'] - 0.05, 0.10)\n",
    "        adjustment = current_allocation['BTC'] - new_btc\n",
    "        \n",
    "        # Increase cash accordingly\n",
    "        new_allocation['BTC'] = new_btc\n",
    "        new_allocation['CASH'] = current_allocation['CASH'] + adjustment\n",
    "    \n",
    "    # Normalize to ensure sum = 1\n",
    "    total = sum(new_allocation.values())\n",
    "    for key in new_allocation:\n",
    "        new_allocation[key] /= total\n",
    "    \n",
    "    return new_allocation"
   ]
  },
  {
   "cell_type": "code",
   "execution_count": null,
   "metadata": {
    "vscode": {
     "languageId": "plaintext"
    }
   },
   "outputs": [],
   "source": [
    "def rebalance_portfolio(current_allocation, new_allocation, portfolio_value, \n",
    "                         rebalance_threshold=REBALANCE_THRESHOLD):\n",
    "    \"\"\"Determine if rebalancing is needed and execute if necessary\"\"\"\n",
    "    \n",
    "    # Check if any allocation differs by more than the threshold\n",
    "    needs_rebalance = any(\n",
    "        abs(new_allocation[asset] - current_allocation[asset]) > rebalance_threshold\n",
    "        for asset in current_allocation\n",
    "    )\n",
    "    \n",
    "    if needs_rebalance:\n",
    "        # Calculate new holdings based on target allocation\n",
    "        new_holdings = {\n",
    "            asset: portfolio_value * new_allocation[asset]\n",
    "            for asset in new_allocation\n",
    "        }\n",
    "        return new_allocation, new_holdings, True\n",
    "    \n",
    "    return current_allocation, None, False"
   ]
  },
  {
   "cell_type": "code",
   "execution_count": null,
   "metadata": {
    "vscode": {
     "languageId": "plaintext"
    }
   },
   "outputs": [],
   "source": [
    "def backtest_strategy(start_date, end_date, btc_data, spy_data, tlt_data,\n",
    "                     initial_capital=INITIAL_CAPITAL):\n",
    "    \"\"\"Backtest the four-asset strategy over a date range\"\"\"\n",
    "    \n",
    "    # Initialize portfolio\n",
    "    current_allocation = initial_allocation.copy()\n",
    "    current_holdings = {asset: initial_capital * weight \n",
    "                       for asset, weight in current_allocation.items()}\n",
    "    portfolio_values = []\n",
    "    allocations_history = []\n",
    "    \n",
    "    # Create date range for backtesting\n",
    "    dates = pd.date_range(start=start_date, end=end_date, freq='30min')\n",
    "    \n",
    "    for date in dates:\n",
    "        is_trading_day = date.weekday() < 5  # Mon-Fri\n",
    "        is_market_hours = is_trading_day and 9 <= date.hour < 16  # 9am-4pm ET\n",
    "        \n",
    "        # Calculate current portfolio value\n",
    "        portfolio_value = sum(current_holdings.values())\n",
    "        portfolio_values.append(portfolio_value)\n",
    "        allocations_history.append(current_allocation.copy())\n",
    "        \n",
    "        # Get data available at this timestamp\n",
    "        btc_data_now = btc_data[btc_data['Date'] <= date]  # BTC trades 24/7\n",
    "        \n",
    "        # Only process equity/bond market data during market hours\n",
    "        if is_market_hours:\n",
    "            spy_data_now = spy_data[spy_data['Date'] <= date]\n",
    "            tlt_data_now = tlt_data[tlt_data['Date'] <= date]\n",
    "            \n",
    "            if not btc_data_now.empty and not spy_data_now.empty and not tlt_data_now.empty:\n",
    "                # Generate signals\n",
    "                btc_signal = generate_signals(btc_data_now.tail(15))\n",
    "                spy_signal = generate_signals(spy_data_now.tail(15))\n",
    "                tlt_signal = generate_signals(tlt_data_now.tail(15))\n",
    "                \n",
    "                # Determine new allocation\n",
    "                new_allocation = determine_allocation(\n",
    "                    TREASURY_YIELD/365, btc_signal, spy_signal, tlt_signal, current_allocation\n",
    "                )\n",
    "                \n",
    "                # Check if rebalancing is needed\n",
    "                current_allocation, new_holdings, did_rebalance = rebalance_portfolio(\n",
    "                    current_allocation, new_allocation, portfolio_value\n",
    "                )\n",
    "                \n",
    "                # Update holdings if rebalanced\n",
    "                if did_rebalance and new_holdings:\n",
    "                    current_holdings = new_holdings\n",
    "        \n",
    "        # Handle BTC during off-hours\n",
    "        elif not btc_data_now.empty:\n",
    "            btc_signal = generate_signals(btc_data_now.tail(15))\n",
    "            \n",
    "            # Only adjust BTC allocation during off-hours\n",
    "            new_allocation = handle_btc_off_hours(\n",
    "                btc_signal, current_allocation, portfolio_value\n",
    "            )\n",
    "            \n",
    "            # Check if BTC rebalancing is needed\n",
    "            current_allocation, new_holdings, did_rebalance = rebalance_portfolio(\n",
    "                current_allocation, new_allocation, portfolio_value, \n",
    "                rebalance_threshold=0.05  # Slightly higher threshold for off-hours\n",
    "            )\n",
    "            \n",
    "            # Update holdings if rebalanced\n",
    "            if did_rebalance and new_holdings:\n",
    "                current_holdings = new_holdings\n",
    "        \n",
    "        # Update cash value based on treasury yield (daily compounding)\n",
    "        daily_yield = (1 + TREASURY_YIELD) ** (1/365) - 1\n",
    "        current_holdings['CASH'] *= (1 + daily_yield)\n",
    "    \n",
    "    return pd.Series(portfolio_values, index=dates), pd.DataFrame(allocations_history, index=dates)\n",
    "\n"
   ]
  },
  {
   "cell_type": "code",
   "execution_count": null,
   "metadata": {
    "vscode": {
     "languageId": "plaintext"
    }
   },
   "outputs": [],
   "source": [
    "def compare_performance(portfolio_values, benchmark_values):\n",
    "    \"\"\"Compare portfolio performance against cash benchmark\"\"\"\n",
    "    \n",
    "    # Calculate returns\n",
    "    portfolio_returns = portfolio_values.pct_change().dropna()\n",
    "    benchmark_returns = benchmark_values.pct_change().dropna()\n",
    "    \n",
    "    # Calculate metrics\n",
    "    metrics = {\n",
    "        'Total Return': portfolio_values.iloc[-1] / portfolio_values.iloc[0] - 1,\n",
    "        'Benchmark Return': benchmark_values.iloc[-1] / benchmark_values.iloc[0] - 1,\n",
    "        'Excess Return': (portfolio_values.iloc[-1] / portfolio_values.iloc[0]) - \n",
    "                         (benchmark_values.iloc[-1] / benchmark_values.iloc[0]),\n",
    "        'Sharpe Ratio': np.sqrt(252) * portfolio_returns.mean() / portfolio_returns.std(),\n",
    "        'Max Drawdown': (portfolio_values / portfolio_values.cummax() - 1).min(),\n",
    "        'Volatility': portfolio_returns.std() * np.sqrt(252)\n",
    "    }\n",
    "    \n",
    "    return metrics\n"
   ]
  },
  {
   "cell_type": "code",
   "execution_count": null,
   "metadata": {
    "vscode": {
     "languageId": "plaintext"
    }
   },
   "outputs": [],
   "source": [
    "def plot_portfolio_performance(portfolio_values, benchmark_values, allocation_history):\n",
    "    \"\"\"Plot portfolio performance and allocation over time\"\"\"\n",
    "    \n",
    "    fig, (ax1, ax2) = plt.subplots(2, 1, figsize=(12, 10))\n",
    "    \n",
    "    # Plot portfolio value vs benchmark\n",
    "    ax1.plot(portfolio_values, label='Four-Asset Portfolio')\n",
    "    ax1.plot(benchmark_values, label='Cash Benchmark (3-month Treasury)')\n",
    "    ax1.set_title('Portfolio Performance')\n",
    "    ax1.legend()\n",
    "    \n",
    "    # Plot allocation over time as stacked area\n",
    "    ax2.stackplot(allocation_history.index, \n",
    "                 [allocation_history['CASH'], \n",
    "                  allocation_history['BTC'],\n",
    "                  allocation_history['SPY'], \n",
    "                  allocation_history['TLT']],\n",
    "                 labels=['Cash', 'BTC', 'SPY', 'TLT'],\n",
    "                 alpha=0.8)\n",
    "    ax2.set_title('Portfolio Allocation Over Time')\n",
    "    ax2.legend(loc='upper left')\n",
    "    \n",
    "    plt.tight_layout()\n",
    "    plt.show()\n",
    "\n",
    "\n"
   ]
  },
  {
   "cell_type": "code",
   "execution_count": null,
   "metadata": {
    "vscode": {
     "languageId": "plaintext"
    }
   },
   "outputs": [],
   "source": [
    "# Define backtest period\n",
    "start_date = \"2025-01-01\"\n",
    "end_date = \"2025-02-28\"\n",
    "\n",
    "# Run backtest\n",
    "portfolio_values, allocations_history = backtest_strategy(\n",
    "    start_date, end_date, btc, spy, tlt\n",
    ")\n",
    "\n",
    "# Plot portfolio performance\n",
    "plt.figure(figsize=(12,6))\n",
    "plt.plot(portfolio_values, label=\"Portfolio Value\")\n",
    "plt.xlabel(\"Date\")\n",
    "plt.ylabel(\"Portfolio Value\")\n",
    "plt.title(\"Portfolio Performance (Jan-Feb 2025)\")\n",
    "plt.legend()\n",
    "plt.grid()\n",
    "plt.show()\n",
    "\n"
   ]
  }
 ],
 "metadata": {
  "language_info": {
   "name": "python"
  }
 },
 "nbformat": 4,
 "nbformat_minor": 2
}
