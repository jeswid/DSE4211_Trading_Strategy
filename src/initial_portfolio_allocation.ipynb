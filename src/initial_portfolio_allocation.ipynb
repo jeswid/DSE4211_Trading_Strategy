{
 "cells": [
  {
   "cell_type": "markdown",
   "metadata": {},
   "source": [
    "# Initial Portfolio Allocation (Start of Jan 2025)"
   ]
  },
  {
   "cell_type": "code",
   "execution_count": 5,
   "metadata": {},
   "outputs": [
    {
     "name": "stdout",
     "output_type": "stream",
     "text": [
      "      Return_SPY  Return_TLT  Return_BTC  Return_Cash\n",
      "1      -0.000816   -0.002946   -0.005420            0\n",
      "2      -0.000170   -0.001109    0.003952            0\n",
      "3       0.001301    0.001923   -0.000195            0\n",
      "4       0.001938   -0.000254    0.003821            0\n",
      "5      -0.000507   -0.001526   -0.003299            0\n",
      "...          ...         ...         ...          ...\n",
      "3255   -0.002041   -0.000911    0.002437            0\n",
      "3256   -0.002453    0.000114   -0.003417            0\n",
      "3257    0.002631    0.005112    0.014193            0\n",
      "3258   -0.000339   -0.001474   -0.001216            0\n",
      "3259   -0.001494   -0.000624   -0.001588            0\n",
      "\n",
      "[3259 rows x 4 columns]\n",
      "Optimal Portfolio Weights:\n",
      "SPY: 0.8707\n",
      "TLT: 0.0000\n",
      "BTC: 0.1192\n",
      "Cash: 0.0101\n"
     ]
    }
   ],
   "source": [
    "import numpy as np\n",
    "import pandas as pd\n",
    "from scipy.optimize import minimize\n",
    "\n",
    "# Load data\n",
    "btc = pd.read_excel(\"../data/pricing_data.xlsx\", sheet_name='BTCUSD')\n",
    "spy = pd.read_excel(\"../data/pricing_data.xlsx\", sheet_name='SPY')\n",
    "tlt = pd.read_excel(\"../data/pricing_data.xlsx\", sheet_name='TLT - iShares 20+ Year Bond')\n",
    "\n",
    "# Convert 'Date' column to datetime\n",
    "btc['Date'] = pd.to_datetime(btc['Date'])\n",
    "spy['Date'] = pd.to_datetime(spy['Date'])\n",
    "tlt['Date'] = pd.to_datetime(tlt['Date'])\n",
    "\n",
    "btc = btc[btc['Date'].dt.year == 2024]\n",
    "spy = spy[spy['Date'].dt.year == 2024]\n",
    "tlt = tlt[tlt['Date'].dt.year == 2024]\n",
    "\n",
    "# Merge datasets on Date (no filtering for market hours)\n",
    "data = pd.merge_asof(spy.sort_values('Date'), tlt.sort_values('Date'), on='Date', suffixes=('_SPY', '_TLT'))\n",
    "data = pd.merge_asof(data.sort_values('Date'), btc.sort_values('Date'), on='Date')\n",
    "data = data[['Date', 'Close_SPY', 'Close_TLT', 'Close']]  # Keep only Close prices\n",
    "\n",
    "# Calculate log returns\n",
    "data['Return_SPY'] = np.log(data['Close_SPY'] / data['Close_SPY'].shift(1))\n",
    "data['Return_TLT'] = np.log(data['Close_TLT'] / data['Close_TLT'].shift(1))\n",
    "data['Return_BTC'] = np.log(data['Close'] / data['Close'].shift(1))\n",
    "\n",
    "# Add Cash column with zero returns\n",
    "data['Return_Cash'] = 0\n",
    "\n",
    "# Drop NaN rows after calculating returns\n",
    "returns_df = data[['Return_SPY', 'Return_TLT', 'Return_BTC', 'Return_Cash']].dropna()\n",
    "\n",
    "print(returns_df)\n",
    "\n",
    "# Portfolio optimization function\n",
    "def portfolio_sharpe(weights):\n",
    "    weights = np.array(weights)\n",
    "    mean_returns = returns_df.mean()\n",
    "    cov_matrix = returns_df.cov()\n",
    "    portfolio_return = np.dot(weights, mean_returns)\n",
    "    portfolio_volatility = np.sqrt(np.dot(weights.T, np.dot(cov_matrix, weights)))\n",
    "    sharpe_ratio = portfolio_return / portfolio_volatility\n",
    "    return -sharpe_ratio  # Negative for minimization\n",
    "\n",
    "# Constraints: sum of weights = 1, cash between 1% and 5%\n",
    "constraints = (\n",
    "    {'type': 'eq', 'fun': lambda x: np.sum(x) - 1},  # Sum of weights = 1\n",
    "    {'type': 'ineq', 'fun': lambda x: x[3] - 0.01},  # Cash >= 1%\n",
    "    {'type': 'ineq', 'fun': lambda x: 0.05 - x[3]}   # Cash <= 5%\n",
    ")\n",
    "bounds = tuple((0, 1) for _ in range(4))  # No short selling (includes cash)\n",
    "\n",
    "# Initial guess (equal weights)\n",
    "initial_weights = [0.25, 0.25, 0.25, 0.25]\n",
    "\n",
    "# Optimization\n",
    "result = minimize(portfolio_sharpe, initial_weights, method='SLSQP', bounds=bounds, constraints=constraints)\n",
    "\n",
    "# Optimal weights\n",
    "optimal_weights = result.x\n",
    "\n",
    "# Print optimal portfolio weights\n",
    "print(\"Optimal Portfolio Weights:\")\n",
    "print(f\"SPY: {optimal_weights[0]:.4f}\")\n",
    "print(f\"TLT: {optimal_weights[1]:.4f}\")\n",
    "print(f\"BTC: {optimal_weights[2]:.4f}\")\n",
    "print(f\"Cash: {optimal_weights[3]:.4f}\")"
   ]
  },
  {
   "cell_type": "code",
   "execution_count": null,
   "metadata": {},
   "outputs": [],
   "source": []
  }
 ],
 "metadata": {
  "kernelspec": {
   "display_name": ".venv",
   "language": "python",
   "name": "python3"
  },
  "language_info": {
   "codemirror_mode": {
    "name": "ipython",
    "version": 3
   },
   "file_extension": ".py",
   "mimetype": "text/x-python",
   "name": "python",
   "nbconvert_exporter": "python",
   "pygments_lexer": "ipython3",
   "version": "3.12.1"
  }
 },
 "nbformat": 4,
 "nbformat_minor": 2
}
