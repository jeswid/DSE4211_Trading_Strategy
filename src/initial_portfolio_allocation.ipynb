{
 "cells": [
  {
   "cell_type": "code",
   "execution_count": null,
   "metadata": {
    "vscode": {
     "languageId": "plaintext"
    }
   },
   "outputs": [],
   "source": [
    "btc = pd.read_excel(\"../data/pricing_data.xlsx\", sheet_name='BTCUSD')\n",
    "\n",
    "# Convert the 'Date' column to datetime format\n",
    "btc['Date'] = pd.to_datetime(btc['Date'])\n",
    "\n",
    "# Sort by date\n",
    "btc = btc.sort_values(by='Date')\n",
    "\n",
    "# Reset index if needed\n",
    "btc.reset_index(drop=True, inplace=True)"
   ]
  },
  {
   "cell_type": "code",
   "execution_count": null,
   "metadata": {
    "vscode": {
     "languageId": "plaintext"
    }
   },
   "outputs": [],
   "source": [
    "spy = pd.read_excel('../data/pricing_data.xlsx', sheet_name='SPY')\n",
    "# Convert the 'Date' column to datetime format\n",
    "spy['Date'] = pd.to_datetime(spy['Date'])\n",
    "\n",
    "# Sort by date\n",
    "spy = spy.sort_values(by='Date')\n",
    "\n",
    "# Reset index if needed\n",
    "spy.reset_index(drop=True, inplace=True)"
   ]
  },
  {
   "cell_type": "code",
   "execution_count": null,
   "metadata": {
    "vscode": {
     "languageId": "plaintext"
    }
   },
   "outputs": [],
   "source": [
    "tlt = pd.read_excel('../data/pricing_data.xlsx', sheet_name='TLT - iShares 20+ Year Bond')\n",
    "# Convert the 'Date' column to datetime format\n",
    "tlt['Date'] = pd.to_datetime(tlt['Date'])\n",
    "\n",
    "# Sort by date\n",
    "tlt = tlt.sort_values(by='Date')\n",
    "\n",
    "# Reset index if needed\n",
    "tlt.reset_index(drop=True, inplace=True)"
   ]
  }
 ],
 "metadata": {
  "language_info": {
   "name": "python"
  }
 },
 "nbformat": 4,
 "nbformat_minor": 2
}
