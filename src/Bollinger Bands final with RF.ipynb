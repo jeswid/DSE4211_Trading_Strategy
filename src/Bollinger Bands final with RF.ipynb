{
 "cells": [
  {
   "cell_type": "code",
   "execution_count": 2,
   "metadata": {},
   "outputs": [],
   "source": [
    "import pandas as pd\n",
    "import numpy as np\n",
    "import matplotlib.pyplot as plt\n",
    "import datetime"
   ]
  },
  {
   "cell_type": "markdown",
   "metadata": {},
   "source": [
    "# BTC"
   ]
  },
  {
   "cell_type": "code",
   "execution_count": 6,
   "metadata": {},
   "outputs": [],
   "source": [
    "btc = pd.read_excel(\"../data/pricing_data.xlsx\", sheet_name='BTCUSD')\n",
    "\n",
    "# Convert the 'Date' column to datetime format\n",
    "btc['Date'] = pd.to_datetime(btc['Date'])\n",
    "\n",
    "# Sort by date\n",
    "btc = btc.sort_values(by='Date')\n",
    "\n",
    "# Reset index if needed\n",
    "btc.reset_index(drop=True, inplace=True)"
   ]
  },
  {
   "cell_type": "code",
   "execution_count": 7,
   "metadata": {},
   "outputs": [],
   "source": [
    "btc_rf_val = pd.read_csv(\"../data/btc_rf_predictions_rolling.csv\")\n",
    "btc_rf_val = btc_rf_val[['Date', 'Predicted']]\n",
    "btc_rf_val['Date'] = pd.to_datetime(btc_rf_val['Date'])\n",
    "\n",
    "btc_rf_test = pd.read_csv('../data/btc_rf_predictions_rolling_march.csv')\n",
    "btc_rf_test = btc_rf_test[['Date', 'Predicted']]\n",
    "btc_rf_test['Date'] = pd.to_datetime(btc_rf_test['Date'])\n",
    "btc_rf = pd.concat([btc_rf_val, btc_rf_test], axis=0)\n",
    "\n",
    "btc_rf_test_endmar = pd.read_csv('../data/btc_rf_predictions_rolling_endmarch.csv')\n",
    "btc_rf_test_endmar = btc_rf_test_endmar[['Date', 'Predicted']]\n",
    "btc_rf_test_endmar['Date'] = pd.to_datetime(btc_rf_test_endmar['Date'])\n",
    "btc_rf = pd.concat([btc_rf, btc_rf_test_endmar], axis=0)\n",
    "\n",
    "btc = btc.merge(btc_rf, how = 'left', on = 'Date')\n",
    "btc['Lead_Predicted'] = btc['Predicted'].shift(-1)\n",
    "btc['Predicted_Diff'] = btc['Lead_Predicted'] / btc['Close'] - 1"
   ]
  },
  {
   "cell_type": "markdown",
   "metadata": {},
   "source": [
    "# SPY"
   ]
  },
  {
   "cell_type": "code",
   "execution_count": 9,
   "metadata": {},
   "outputs": [],
   "source": [
    "spy = pd.read_excel('../data/pricing_data.xlsx', sheet_name='SPY')\n",
    "\n",
    "# Convert the 'Date' column to datetime format\n",
    "spy['Date'] = pd.to_datetime(spy['Date'])\n",
    "\n",
    "# Sort by date\n",
    "spy = spy.sort_values(by='Date')\n",
    "\n",
    "# Reset index if needed\n",
    "spy.reset_index(drop=True, inplace=True)"
   ]
  },
  {
   "cell_type": "code",
   "execution_count": 10,
   "metadata": {},
   "outputs": [],
   "source": [
    "spy_rf_val = pd.read_csv(\"../data/spy_rf_predictions_rolling.csv\")\n",
    "spy_rf_val = spy_rf_val[['Date', 'Predicted']]\n",
    "spy_rf_val['Date'] = pd.to_datetime(spy_rf_val['Date'])\n",
    "\n",
    "spy_rf_test = pd.read_csv('../data/spy_rf_predictions_rolling_march.csv')\n",
    "spy_rf_test = btc_rf_test[['Date', 'Predicted']]\n",
    "spy_rf_test['Date'] = pd.to_datetime(spy_rf_test['Date'])\n",
    "spy_rf = pd.concat([spy_rf_val, spy_rf_test], axis=0)\n",
    "\n",
    "spy_rf_test_endmar = pd.read_csv('../data/spy_rf_predictions_rolling_endmarch.csv')\n",
    "spy_rf_test_endmar = spy_rf_test_endmar[['Date', 'Predicted']]\n",
    "spy_rf_test_endmar['Date'] = pd.to_datetime(spy_rf_test_endmar['Date'])\n",
    "spy_rf = pd.concat([spy_rf, spy_rf_test_endmar], axis=0)\n",
    "\n",
    "spy = spy.merge(spy_rf, how = 'left', on = 'Date')\n",
    "spy['Lead_Predicted'] = spy['Predicted'].shift(-1)\n",
    "spy['Predicted_Diff'] = spy['Lead_Predicted'] / spy['Close'] - 1"
   ]
  },
  {
   "cell_type": "markdown",
   "metadata": {},
   "source": [
    "# TLT"
   ]
  },
  {
   "cell_type": "code",
   "execution_count": 11,
   "metadata": {},
   "outputs": [],
   "source": [
    "tlt = pd.read_excel(\"../data/pricing_data.xlsx\", sheet_name='TLT - iShares 20+ Year Bond')\n",
    "\n",
    "# Convert the 'Date' column to datetime format\n",
    "tlt['Date'] = pd.to_datetime(tlt['Date'])\n",
    "\n",
    "# Sort by date\n",
    "tlt = tlt.sort_values(by='Date')\n",
    "\n",
    "# Reset index if needed\n",
    "tlt.reset_index(drop=True, inplace=True)"
   ]
  },
  {
   "cell_type": "code",
   "execution_count": 12,
   "metadata": {},
   "outputs": [],
   "source": [
    "def calculate_macd(df):\n",
    "    df['EMA_12'] = df['Close'].ewm(span=12, adjust=False).mean()\n",
    "    df['EMA_26'] = df['Close'].ewm(span=26, adjust=False).mean()\n",
    "    df['MACD'] = df['EMA_12'] - df['EMA_26']\n",
    "    df['MACD_signal'] = df['MACD'].ewm(span=9, adjust=False).mean()\n",
    "    df['MACD_histogram'] = df['MACD'] - df['MACD_signal']\n",
    "\n",
    "    return df"
   ]
  },
  {
   "cell_type": "code",
   "execution_count": 13,
   "metadata": {},
   "outputs": [],
   "source": [
    "def calculate_metrics(values):\n",
    "    returns = values.pct_change().dropna()\n",
    "    sharpe = np.sqrt(17520) * returns.mean() / returns.std()\n",
    "    max_drawdown = (values / values.cummax() - 1).min()\n",
    "    total_return = (values.iloc[-1] / values.iloc[0]) - 1\n",
    "    return {'Sharpe': sharpe, 'Max Drawdown': max_drawdown, 'Total Return': total_return}"
   ]
  },
  {
   "cell_type": "markdown",
   "metadata": {},
   "source": [
    "# Bollinger Bands"
   ]
  },
  {
   "cell_type": "code",
   "execution_count": 14,
   "metadata": {},
   "outputs": [],
   "source": [
    "def calculate_bollinger_bands(df, window=20, num_std=2):\n",
    "    \"\"\"Calculate Bollinger Bands for the given data\"\"\"\n",
    "    # Calculate middle band (SMA20)\n",
    "    df['BB_middle'] = df['Close'].rolling(window=window).mean()\n",
    "    \n",
    "    # Calculate standard deviation\n",
    "    rolling_std = df['Close'].rolling(window=window).std()\n",
    "    \n",
    "    # Calculate upper and lower bands\n",
    "    df['BB_upper'] = df['BB_middle'] + (rolling_std * num_std)\n",
    "    df['BB_lower'] = df['BB_middle'] - (rolling_std * num_std)\n",
    "    \n",
    "    # Calculate bandwidth and %B\n",
    "    df['BB_width'] = (df['BB_upper'] - df['BB_lower']) / df['BB_middle']\n",
    "    df['BB_pctB'] = (df['Close'] - df['BB_lower']) / (df['BB_upper'] - df['BB_lower'])\n",
    "    \n",
    "    return df"
   ]
  },
  {
   "cell_type": "code",
   "execution_count": 15,
   "metadata": {},
   "outputs": [],
   "source": [
    "def generate_enhanced_signals_btc(df):\n",
    "    \"\"\"Generate trading signals using SMA crossovers and Bollinger Bands\"\"\"\n",
    "    # Calculate basic SMA signals (as before)\n",
    "    #bullish_sma = (df['SMAVG (5)  on Close'] > df['SMAVG (10)  on Close']) & (df['SMAVG (10)  on Close'] > df['SMAVG (15)  on Close'])\n",
    "    #bearish_sma = (df['SMAVG (5)  on Close'] < df['SMAVG (10)  on Close']) & (df['SMAVG (10)  on Close'] < df['SMAVG (15)  on Close'])\n",
    "    bullish_sma = (df['Close'].rolling(50).mean() > df['Close'].rolling(200).mean())# & (df['Close'].rolling(10).mean() > df['Close'].rolling(50).mean())\n",
    "    bearish_sma = (df['Close'].rolling(50).mean() < df['Close'].rolling(200).mean())# & (df['Close'].rolling(10).mean() < df['Close'].rolling(50).mean())\n",
    "    sma_signal = np.where(bullish_sma, 1, np.where(bearish_sma, -1, 0))\n",
    "    rf_signal = np.where(df['Predicted_Diff'] > 0, 1, np.where(df['Predicted_Diff'] < 0, -1, 0))\n",
    "\n",
    "    df = calculate_macd(df.copy())\n",
    "\n",
    "    bullish_macd = df['MACD_histogram'] > 40\n",
    "    bearish_macd = df['MACD_histogram'] < -40\n",
    "    macd_signal = np.where(np.logical_and(bullish_macd, rf_signal == 1), 1, \n",
    "                np.where(np.logical_and(bearish_macd, rf_signal == -1), -1, 0))\n",
    "\n",
    "    # Calculate Bollinger Band signals\n",
    "    # Oversold: Close price below lower band (potential buy)\n",
    "    # Overbought: Close price above upper band (potential sell)\n",
    "    bb_oversold = df['Close'] < df['BB_lower']\n",
    "    bb_overbought = df['Close'] > df['BB_upper']\n",
    "    \n",
    "    # Mean reversion potential when price is near bands\n",
    "    bb_signal = np.where(bb_oversold, 1, np.where(bb_overbought, -1, 0))\n",
    "    \n",
    "    # Bollinger Band squeeze (contraction) indicates potential breakout\n",
    "    bb_squeeze = df['BB_width'] < df['BB_width'].rolling(window=50).mean() * 0.85\n",
    "    \n",
    "    # Combined signal (weighted approach)\n",
    "    # SMA trend signals get 60% weight, BB signals get 40% weight\n",
    "    rf_weight = np.abs(rf_signal) * 0.2  # Scale weight dynamically\n",
    "\n",
    "    combined_signal = np.round((macd_signal * (0.3 + rf_weight)) + (bb_signal * (0.7 - rf_weight)), 1)\n",
    "    # combined_signal = (macd_signal * 0.4) + (bb_signal * 0.6) + (sma_signal * 0.0) \n",
    "\n",
    "    return pd.DataFrame({\n",
    "        'macd_signal': sma_signal,\n",
    "        'bb_signal': bb_signal,\n",
    "        'combined_signal': combined_signal,\n",
    "        'bb_squeeze': bb_squeeze,\n",
    "        'price': df['Close'],\n",
    "        'pctB': df['BB_pctB']\n",
    "    }, index=df.index)\n"
   ]
  },
  {
   "cell_type": "code",
   "execution_count": 16,
   "metadata": {},
   "outputs": [],
   "source": [
    "def generate_enhanced_signals_spy(df):\n",
    "    \"\"\"Generate trading signals using SMA crossovers and Bollinger Bands\"\"\"\n",
    "    # Calculate basic SMA signals (as before)\n",
    "    #bullish_sma = (df['SMAVG (5)  on Close'] > df['SMAVG (10)  on Close']) & (df['SMAVG (10)  on Close'] > df['SMAVG (15)  on Close'])\n",
    "    #bearish_sma = (df['SMAVG (5)  on Close'] < df['SMAVG (10)  on Close']) & (df['SMAVG (10)  on Close'] < df['SMAVG (15)  on Close'])\n",
    "    bullish_sma = (df['Close'].rolling(50).mean() > df['Close'].rolling(200).mean())# & (df['Close'].rolling(10).mean() > df['Close'].rolling(50).mean())\n",
    "    bearish_sma = (df['Close'].rolling(50).mean() < df['Close'].rolling(200).mean())# & (df['Close'].rolling(10).mean() < df['Close'].rolling(50).mean())\n",
    "    sma_signal = np.where(bullish_sma, 1, np.where(bearish_sma, -1, 0))\n",
    "    rf_signal = np.where(df['Predicted_Diff'] > 0, 1, np.where(df['Predicted_Diff'] < -0, -1, 0))\n",
    "\n",
    "    df = calculate_macd(df.copy())\n",
    "\n",
    "    bullish_macd = df['MACD_histogram'] > 40\n",
    "    bearish_macd = df['MACD_histogram'] < -40\n",
    "    macd_signal = np.where(np.logical_and(bullish_macd, rf_signal == 1), 1, \n",
    "            np.where(np.logical_and(bearish_macd, rf_signal == -1), -1, 0))\n",
    "\n",
    "    # Calculate Bollinger Band signals\n",
    "    # Oversold: Close price below lower band (potential buy)\n",
    "    # Overbought: Close price above upper band (potential sell)\n",
    "    bb_oversold = df['Close'] < df['BB_lower']\n",
    "    bb_overbought = df['Close'] > df['BB_upper']\n",
    "    \n",
    "    # Mean reversion potential when price is near bands\n",
    "    bb_signal = np.where(bb_oversold, 1, np.where(bb_overbought, -1, 0))\n",
    "    \n",
    "    # Bollinger Band squeeze (contraction) indicates potential breakout\n",
    "    bb_squeeze = df['BB_width'] < df['BB_width'].rolling(window=50).mean() * 0.85\n",
    "    \n",
    "    # Combined signal (weighted approach)\n",
    "    # SMA trend signals get 60% weight, BB signals get 40% weight\n",
    "\n",
    "    combined_signal = np.round((macd_signal * 0.3) + (bb_signal * 0.7) + (sma_signal * 0.0), 1)\n",
    "    \n",
    "    return pd.DataFrame({\n",
    "        'macd_signal': sma_signal,\n",
    "        'bb_signal': bb_signal,\n",
    "        'combined_signal': combined_signal,\n",
    "        'bb_squeeze': bb_squeeze,\n",
    "        'price': df['Close'],\n",
    "        'pctB': df['BB_pctB']\n",
    "    }, index=df.index)\n"
   ]
  },
  {
   "cell_type": "code",
   "execution_count": 17,
   "metadata": {},
   "outputs": [],
   "source": [
    "def generate_enhanced_signals_tlt(df):\n",
    "    \"\"\"Generate trading signals using SMA crossovers and Bollinger Bands\"\"\"\n",
    "    # Calculate basic SMA signals (as before)\n",
    "    #bullish_sma = (df['SMAVG (5)  on Close'] > df['SMAVG (10)  on Close']) & (df['SMAVG (10)  on Close'] > df['SMAVG (15)  on Close'])\n",
    "    #bearish_sma = (df['SMAVG (5)  on Close'] < df['SMAVG (10)  on Close']) & (df['SMAVG (10)  on Close'] < df['SMAVG (15)  on Close'])\n",
    "    bullish_sma = (df['Close'].rolling(50).mean() > df['Close'].rolling(200).mean())# & (df['Close'].rolling(10).mean() > df['Close'].rolling(50).mean())\n",
    "    bearish_sma = (df['Close'].rolling(50).mean() < df['Close'].rolling(200).mean())# & (df['Close'].rolling(10).mean() < df['Close'].rolling(50).mean())\n",
    "    sma_signal = np.where(bullish_sma, 1, np.where(bearish_sma, -1, 0))\n",
    "\n",
    "    df = calculate_macd(df.copy())\n",
    "\n",
    "    bullish_macd = df['MACD_histogram'] > 40\n",
    "    bearish_macd = df['MACD_histogram'] < -40\n",
    "    macd_signal = np.where(bullish_macd, 1, np.where(bearish_macd, -1, 0))\n",
    "\n",
    "    \n",
    "    # Calculate Bollinger Band signals\n",
    "    # Oversold: Close price below lower band (potential buy)\n",
    "    # Overbought: Close price above upper band (potential sell)\n",
    "    bb_oversold = df['Close'] < df['BB_lower']\n",
    "    bb_overbought = df['Close'] > df['BB_upper']\n",
    "    \n",
    "    # Mean reversion potential when price is near bands\n",
    "    bb_signal = np.where(bb_oversold, 1, np.where(bb_overbought, -1, 0))\n",
    "    \n",
    "    # Bollinger Band squeeze (contraction) indicates potential breakout\n",
    "    bb_squeeze = df['BB_width'] < df['BB_width'].rolling(window=50).mean() * 0.85\n",
    "    \n",
    "    # Combined signal (weighted approach)\n",
    "    # SMA trend signals get 60% weight, BB signals get 40% weight\n",
    "    #rf_signal = np.where(df['Predicted_Diff'] > 0, 1, np.where(df['Predicted_Diff'] < 0, -1, 0))\n",
    "    combined_signal = np.round((macd_signal * 0.3) + (bb_signal * 0.7) + (sma_signal * 0.0), 1)\n",
    "    \n",
    "    return pd.DataFrame({\n",
    "        'macd_signal': sma_signal,\n",
    "        'bb_signal': bb_signal,\n",
    "        'combined_signal': combined_signal,\n",
    "        'bb_squeeze': bb_squeeze,\n",
    "        'price': df['Close'],\n",
    "        'pctB': df['BB_pctB']\n",
    "    }, index=df.index)\n"
   ]
  },
  {
   "cell_type": "code",
   "execution_count": 18,
   "metadata": {},
   "outputs": [
    {
     "data": {
      "text/plain": [
       "array([ 0. , -0.7,  0.7, -0.5,  0.5, -1. ,  1. ])"
      ]
     },
     "execution_count": 18,
     "metadata": {},
     "output_type": "execute_result"
    }
   ],
   "source": [
    "enhanced_signals_df = generate_enhanced_signals_btc(calculate_bollinger_bands(btc, 20))\n",
    "\n",
    "enhanced_signals_df['combined_signal'].unique()"
   ]
  },
  {
   "cell_type": "code",
   "execution_count": 54,
   "metadata": {},
   "outputs": [],
   "source": [
    "# sell/buy according to signal strength\n",
    "def calculate_bb_enhanced_allocation(signals, current_units, prices, portfolio_value, transaction):\n",
    "    \"\"\"Enhanced rebalancing with dynamic allocation using Bollinger Bands.\"\"\"\n",
    "    new_units = current_units.copy()\n",
    "    MIN_CASH = 0.02 * portfolio_value\n",
    "    commission_value = 0\n",
    "\n",
    "    # Collect signals and prices dynamically\n",
    "    assets = ['BTC', 'SPY', 'TLT']\n",
    "\n",
    "    # Identify buy and sell signals\n",
    "    buy_assets = [a for a in assets if signals[a] > 0]\n",
    "    sell_assets = [a for a in assets if signals[a] < 0]\n",
    "\n",
    "    # Sell assets with a sell signal\n",
    "    for asset in sell_assets:\n",
    "        asset_units = new_units.get(asset, 0)\n",
    "        sell_amount = asset_units * abs(signals[asset])  # Sell proportionally to signal\n",
    "        sell_value = sell_amount * prices[asset] * (1 - transaction[asset])\n",
    "        commission_value += sell_amount * prices[asset] * (transaction[asset])\n",
    "        \n",
    "        new_units['cash'] += sell_value  # Add cash from the sale\n",
    "        new_units[asset] -= sell_amount  # Reduce asset holdings\n",
    "\n",
    "    # Calculate available cash after maintaining minimum cash buffer\n",
    "    available_cash = max(0, new_units['cash'] - MIN_CASH)\n",
    "    \n",
    "\n",
    "    if available_cash > 0 and buy_assets:\n",
    "        #total_signal_strength = sum(signals[asset] for asset in buy_assets)\n",
    "        total_signal_strength = len(buy_assets)\n",
    "        #cash_per_strength_unit = available_cash / total_signal_strength\n",
    "        cash_per_strength_unit = available_cash / total_signal_strength\n",
    "\n",
    "        for asset in buy_assets:\n",
    "            buy_amount = cash_per_strength_unit * signals[asset]\n",
    "            buy_value = buy_amount * (1 - transaction[asset])\n",
    "            new_units[asset] += buy_value / prices[asset]\n",
    "            new_units['cash'] -= buy_amount\n",
    "        \n",
    "            commission_value +=  cash_per_strength_unit * signals[asset] * (transaction[asset])\n",
    "\n",
    "        #new_units['cash'] = MIN_CASH\n",
    "\n",
    "    return new_units, commission_value"
   ]
  },
  {
   "cell_type": "code",
   "execution_count": 20,
   "metadata": {},
   "outputs": [],
   "source": [
    "#if all buy: don't change anything\n",
    "# if one sell, rest buy: split evenly\n",
    "# if all sell: convert to cash"
   ]
  },
  {
   "cell_type": "code",
   "execution_count": 55,
   "metadata": {},
   "outputs": [],
   "source": [
    "def enhanced_btc_offhours(btc_signal, current_units, portfolio_value, btc_curr_price, btc_fee):\n",
    "    \"\"\"Handle BTC trading during off-hours with Bollinger Band signals\"\"\"\n",
    "    new_units = current_units.copy()\n",
    "    MIN_CASH = 0.01*portfolio_value\n",
    "    cash_to_use = max(0, new_units['cash'] - MIN_CASH)\n",
    "    commission_value = 0\n",
    "\n",
    "    signal = btc_signal['combined_signal'].iloc[-1]\n",
    "\n",
    "    if signal > 0:\n",
    "        amt_to_buy = cash_to_use*signal\n",
    "        new_units['BTC'] += (amt_to_buy*(1-btc_fee))/btc_curr_price\n",
    "        new_units['cash'] -= amt_to_buy\n",
    "        commission_value += amt_to_buy*btc_fee\n",
    "\n",
    "    elif signal < 0:\n",
    "        amt_to_sell = new_units['BTC']*abs(signal)\n",
    "        amt_to_sell_value = amt_to_sell*btc_curr_price*(1-btc_fee)\n",
    "        new_units['BTC'] -= amt_to_sell\n",
    "        new_units['cash'] += amt_to_sell_value\n",
    "        commission_value += amt_to_sell*btc_curr_price*(btc_fee)\n",
    "\n",
    "    return new_units, commission_value"
   ]
  },
  {
   "cell_type": "code",
   "execution_count": 22,
   "metadata": {},
   "outputs": [
    {
     "data": {
      "text/plain": [
       "price_diff   -0.00622\n",
       "Name: 0.01, dtype: float64"
      ]
     },
     "execution_count": 22,
     "metadata": {},
     "output_type": "execute_result"
    }
   ],
   "source": [
    "spy_check = spy.loc[spy['Date'] < datetime.datetime(2025, 1, 1)].copy()\n",
    "spy_check['price_diff'] = spy_check['Close'].pct_change()\n",
    "spy_check[['price_diff']].quantile(0.01)"
   ]
  },
  {
   "cell_type": "code",
   "execution_count": 23,
   "metadata": {},
   "outputs": [
    {
     "data": {
      "text/plain": [
       "price_diff   -0.0116\n",
       "Name: 0.01, dtype: float64"
      ]
     },
     "execution_count": 23,
     "metadata": {},
     "output_type": "execute_result"
    }
   ],
   "source": [
    "btc_check = btc.loc[btc['Date'] < datetime.datetime(2025, 1, 1)].copy()\n",
    "btc_check['price_diff'] = btc_check['Close'].pct_change()\n",
    "btc_check[['price_diff']].quantile(0.01)"
   ]
  },
  {
   "cell_type": "code",
   "execution_count": 24,
   "metadata": {},
   "outputs": [
    {
     "data": {
      "text/plain": [
       "price_diff   -0.008192\n",
       "Name: 0.01, dtype: float64"
      ]
     },
     "execution_count": 24,
     "metadata": {},
     "output_type": "execute_result"
    }
   ],
   "source": [
    "tlt_check = tlt.loc[tlt['Date'] < datetime.datetime(2025, 1, 1)].copy()\n",
    "tlt_check['price_diff'] = tlt_check['Close'].pct_change()\n",
    "tlt_check[['price_diff']].quantile(0.01)"
   ]
  },
  {
   "cell_type": "code",
   "execution_count": 56,
   "metadata": {},
   "outputs": [],
   "source": [
    "def backtest_bb_strategy(btc_data, spy_data, tlt_data, start_date, end_date):\n",
    "    \"\"\"Backtest the Bollinger Band enhanced strategy\"\"\"\n",
    "    # Process data: add Bollinger Bands\n",
    "    btc_data = calculate_bollinger_bands(btc_data.copy(), window=25)\n",
    "    spy_data = calculate_bollinger_bands(spy_data.copy(), window=20)\n",
    "    tlt_data = calculate_bollinger_bands(tlt_data.copy(), window=20)\n",
    "    \n",
    "    # Initialize portfolio\n",
    "    INITIAL_CAPITAL = 1000000\n",
    "    portfolio_value = INITIAL_CAPITAL\n",
    "    commission = {'BTC': 0.0005, 'SPY': 0.0003, 'TLT': 0.0003}\n",
    "    stop_loss_threshold = {'BTC': 0.04, 'SPY': 0.03, 'TLT': 0.02}\n",
    "    total_commission = 0\n",
    "    \n",
    "    # Initial allocation: SPY (40%), BTC (30%), TLT (25%), Cash (5%)\n",
    "    #current_allocation = {'SPY': 0.8707, 'BTC': 0.1192, 'TLT': 0.00, 'cash': 0.0101}\n",
    "    #current_units = {'BTC': btc_units, 'SPY': spy_units, 'TLT': tlt_units, 'cash': 10100}\n",
    "    current_units = {'BTC': 0, 'SPY': 0, 'TLT': 0, 'cash': 1000000}\n",
    "    current_holdings = {asset: portfolio_value * weight for asset, weight in current_units.items()}\n",
    "    # print(current_holdings)\n",
    "    # Performance tracking\n",
    "    portfolio_values = []\n",
    "    #allocations_history = []\n",
    "    dates = []\n",
    "    units = []\n",
    "    prices = []\n",
    "    signals_history = [{'BTC': 0, 'SPY': 0, 'TLT': 0}]\n",
    "\n",
    "    btc_current_price = btc_data[btc_data['Date'] == start_date]['Close'].iloc[0]\n",
    "    btc_units = current_holdings['BTC']/btc_current_price\n",
    "    spy_current_price = spy_data[spy_data['Date'] == start_date]['Close'].iloc[0]\n",
    "    spy_units = current_holdings['SPY']/spy_current_price\n",
    "    tlt_current_price = tlt_data[tlt_data['Date'] == start_date]['Close'].iloc[0]\n",
    "    tlt_units = current_holdings['TLT']/tlt_current_price\n",
    "\n",
    "    \n",
    "    current_prices = {'BTC': btc_current_price, 'SPY': spy_current_price, 'TLT': tlt_current_price}\n",
    "\n",
    "    portfolio_values.append(portfolio_value)\n",
    "    #allocations_history.append(current_units.copy())\n",
    "    units.append(current_units.copy())\n",
    "    dates.append(start_date)\n",
    "    prices.append(current_prices)\n",
    "\n",
    "    initial_prices = {'BTC': btc_current_price, 'SPY': spy_current_price, 'TLT': tlt_current_price,'cash': 1.0  # Dummy value for consistency\n",
    "    }\n",
    "\n",
    "    entry_prices = {\n",
    "        asset: initial_prices[asset] if current_units[asset] > 0 else None\n",
    "        for asset in current_units\n",
    "    }\n",
    "\n",
    "    \n",
    "    # Simulation loop\n",
    "    #current_date = start_date + datetime.timedelta(minutes=30)\n",
    "    current_date = start_date\n",
    "    while current_date <= end_date:\n",
    "        #is_trading_day = current_date.weekday() < 5\n",
    "        #is_market_hours = is_trading_day and (current_date.time() >= datetime.time(22, 30) or (current_date.time() <= datetime.time(4, 30)))\n",
    "        is_market_hours = pd.Timestamp(current_date) in spy_data['Date'].values\n",
    "        \n",
    "        # Filter data up to current date\n",
    "        btc_current = btc_data[btc_data['Date'] <= current_date]\n",
    "        #print(btc_current.iloc[-1])\n",
    "        btc_current_price = btc_current['Close'].iloc[-1]\n",
    "        btc_prev_price = btc_current['Close'].iloc[-2]\n",
    "        #current_units['BTC'] = current_holdings['BTC']/btc_prev_price\n",
    "        #current_holdings['BTC'] = current_units['BTC']*btc_current_price\n",
    "        \n",
    "        if not btc_current.empty:\n",
    "            if is_market_hours:\n",
    "                # Regular trading hours: all assets tradable\n",
    "                spy_current = spy_data[spy_data['Date'] <= current_date]\n",
    "                spy_current_price = spy_current['Close'].iloc[-1]\n",
    "                spy_prev_price = spy_current['Close'].iloc[-2]\n",
    "                #current_units['SPY'] = current_holdings['SPY']/spy_prev_price\n",
    "                #current_holdings['SPY'] = current_units['SPY']*spy_current_price\n",
    "                tlt_current = tlt_data[tlt_data['Date'] <= current_date]\n",
    "                tlt_current_price = tlt_current['Close'].iloc[-1]\n",
    "                tlt_prev_price = tlt_current['Close'].iloc[-2]\n",
    "                #current_units['TLT'] = current_holdings['TLT']/tlt_prev_price\n",
    "                #current_holdings['TLT'] = current_units['TLT']*tlt_current_price\n",
    "                current_prices = {'BTC': btc_current_price, 'SPY': spy_current_price, 'TLT': tlt_current_price}\n",
    "                \n",
    "                if not spy_current.empty and not tlt_current.empty:\n",
    "                    # Generate enhanced signals with Bollinger Bands\n",
    "                    btc_signal = generate_enhanced_signals_btc(btc_current[:-1])\n",
    "                    spy_signal = generate_enhanced_signals_spy(spy_current[:-1])\n",
    "                    tlt_signal = generate_enhanced_signals_tlt(tlt_current[:-1])\n",
    "\n",
    "                    signals = {\n",
    "                        'BTC': btc_signal['combined_signal'].iloc[-1], \n",
    "                        'SPY': spy_signal['combined_signal'].iloc[-1], \n",
    "                        'TLT': tlt_signal['combined_signal'].iloc[-1],\n",
    "                        }\n",
    "\n",
    "\n",
    "                    # === Stop-loss check only for SPY and TLT ===\n",
    "        \n",
    "                    for asset in ['BTC', 'SPY', 'TLT']:\n",
    "                        if entry_prices[asset] is not None and current_holdings[asset] > 0:\n",
    "                            latest_data = {'BTC': btc_current, 'SPY': spy_current, 'TLT': tlt_current}[asset]\n",
    "                            if not latest_data.empty:\n",
    "                                latest_price = latest_data['Close'].iloc[-1]\n",
    "                                if latest_price < entry_prices[asset] * (1 - stop_loss_threshold[asset]):\n",
    "                                    print(f\"[{current_date}] Stop-loss triggered on {asset}\")\n",
    "                                    signals[asset] = -1\n",
    "                    \n",
    "                    # Calculate new allocation\n",
    "                    new_units, new_commission = calculate_bb_enhanced_allocation(\n",
    "                        signals, current_units, current_prices, portfolio_value, commission\n",
    "                    )\n",
    "\n",
    "                    current_holdings['BTC'] = new_units['BTC']*btc_current_price\n",
    "                    current_holdings['SPY'] = new_units['SPY']*spy_current_price\n",
    "                    current_holdings['TLT'] = new_units['TLT']*tlt_current_price\n",
    "                    current_holdings['cash'] = new_units['cash']\n",
    "\n",
    "                    current_units = new_units\n",
    "                    total_commission += new_commission\n",
    "                    prices.append({'BTC': btc_current_price, 'SPY': spy_current_price, 'TLT': tlt_current_price})\n",
    "\n",
    "                    for asset in ['BTC', 'SPY', 'TLT']:\n",
    "                        if current_units[asset] > 0:\n",
    "                            entry_prices[asset] = current_prices[asset]\n",
    "\n",
    "            else:\n",
    "                # Off-hours: Only BTC tradable\n",
    "\n",
    "                # === Stop-loss check ===\n",
    "                \n",
    "                if entry_prices['BTC'] is not None and current_holdings['BTC'] > 0:\n",
    "                    if not btc_current.empty:\n",
    "                        latest_price = btc_current_price\n",
    "                        if latest_price < entry_prices['BTC'] * (1 - stop_loss_threshold['BTC']):\n",
    "                            print(f\"[{current_date}] Stop-loss triggered on BTC\")\n",
    "                            cash_from_sale = current_holdings['BTC']\n",
    "                            current_holdings['cash'] += cash_from_sale*(1-commission['BTC'])\n",
    "                            current_units['cash'] += cash_from_sale*(1-commission['BTC'])\n",
    "                            current_holdings['BTC'] = 0\n",
    "                            current_units['BTC'] = 0\n",
    "                            current_units['BTC'] = 0\n",
    "                            entry_prices['BTC'] = None\n",
    "                            total_commission += cash_from_sale*commission['BTC']\n",
    "                            continue\n",
    "                \n",
    "\n",
    "                btc_signal = generate_enhanced_signals_btc(btc_current[:-1])\n",
    "                \n",
    "                # Use enhanced off-hours logic\n",
    "                new_units, new_commission = enhanced_btc_offhours(btc_signal, current_units, portfolio_value, btc_current_price, commission['BTC'])\n",
    "                # Only update BTC and CASH holdings\n",
    "                current_holdings['BTC'] = new_units['BTC']*btc_current_price\n",
    "                current_holdings['cash'] = new_units['cash']\n",
    "\n",
    "                current_units = new_units\n",
    "                total_commission += new_commission\n",
    "\n",
    "                prices.append({'BTC': btc_current_price, 'SPY': 0, 'TLT': 0})\n",
    "                signals = {'BTC': btc_signal['combined_signal'].iloc[-1], 'SPY': None, 'TLT': None}\n",
    "\n",
    "        \n",
    "        # Apply daily interest to cash holdings\n",
    "        #TREASURY_YIELD = 0.045  # 4.5% annual\n",
    "        #daily_yield = (1 + TREASURY_YIELD) ** (1/365) - 1\n",
    "        #current_holdings['CASH'] *= (1 + daily_yield)\n",
    "\n",
    "\n",
    "        # Record current state\n",
    "        portfolio_value = sum(current_holdings.values())\n",
    "        portfolio_values.append(portfolio_value)\n",
    "        #allocations_history.append(current_units.copy())\n",
    "        units.append(current_units.copy())\n",
    "        dates.append(current_date)\n",
    "        signals_history.append(signals)\n",
    "        \n",
    "        # Move to next period\n",
    "        current_date += datetime.timedelta(minutes=30)\n",
    "    print(total_commission)\n",
    "    return pd.DataFrame({\n",
    "        'Date': dates,\n",
    "        'PortfolioValue': portfolio_values,\n",
    "        'CashAlloc': [a['cash'] for a in units],\n",
    "        'BTCAlloc': [a['BTC'] for a in units],\n",
    "        'BTCPrice': [a['BTC'] for a in prices],\n",
    "        'BTCSignal': [a['BTC'] for a in signals_history],\n",
    "        'SPYAlloc': [a['SPY'] for a in units],\n",
    "        'SPYPrice': [a['SPY'] for a in prices],\n",
    "        'SPYSignal': [a['SPY'] for a in signals_history],\n",
    "        'TLTAlloc': [a['TLT'] for a in units],\n",
    "        'TLTPrice': [a['TLT'] for a in prices],\n",
    "        'TLTSignal': [a['TLT'] for a in signals_history]\n",
    "    })\n"
   ]
  },
  {
   "cell_type": "code",
   "execution_count": null,
   "metadata": {},
   "outputs": [],
   "source": [
    "btc[:-1]"
   ]
  },
  {
   "cell_type": "markdown",
   "metadata": {},
   "source": [
    "# Validation Period"
   ]
  },
  {
   "cell_type": "code",
   "execution_count": 59,
   "metadata": {},
   "outputs": [
    {
     "name": "stdout",
     "output_type": "stream",
     "text": [
      "[2025-01-13 19:30:00] Stop-loss triggered on BTC\n",
      "[2025-01-20 07:00:00] Stop-loss triggered on BTC\n",
      "[2025-01-27 12:30:00] Stop-loss triggered on BTC\n",
      "[2025-02-03 01:30:00] Stop-loss triggered on BTC\n",
      "[2025-02-25 15:00:00] Stop-loss triggered on BTC\n",
      "32300.43785296881\n"
     ]
    }
   ],
   "source": [
    "backtesting_df_val = backtest_bb_strategy(btc, spy, tlt, datetime.datetime(2025, 1, 1), datetime.datetime(2025, 2, 28))"
   ]
  },
  {
   "cell_type": "code",
   "execution_count": 60,
   "metadata": {},
   "outputs": [
    {
     "data": {
      "text/html": [
       "<div>\n",
       "<style scoped>\n",
       "    .dataframe tbody tr th:only-of-type {\n",
       "        vertical-align: middle;\n",
       "    }\n",
       "\n",
       "    .dataframe tbody tr th {\n",
       "        vertical-align: top;\n",
       "    }\n",
       "\n",
       "    .dataframe thead th {\n",
       "        text-align: right;\n",
       "    }\n",
       "</style>\n",
       "<table border=\"1\" class=\"dataframe\">\n",
       "  <thead>\n",
       "    <tr style=\"text-align: right;\">\n",
       "      <th></th>\n",
       "      <th>Date</th>\n",
       "      <th>PortfolioValue</th>\n",
       "      <th>CashAlloc</th>\n",
       "      <th>BTCAlloc</th>\n",
       "      <th>BTCPrice</th>\n",
       "      <th>BTCSignal</th>\n",
       "      <th>SPYAlloc</th>\n",
       "      <th>SPYPrice</th>\n",
       "      <th>SPYSignal</th>\n",
       "      <th>TLTAlloc</th>\n",
       "      <th>TLTPrice</th>\n",
       "      <th>TLTSignal</th>\n",
       "    </tr>\n",
       "  </thead>\n",
       "  <tbody>\n",
       "    <tr>\n",
       "      <th>0</th>\n",
       "      <td>2025-01-01 00:00:00</td>\n",
       "      <td>1.000000e+06</td>\n",
       "      <td>1000000.000000</td>\n",
       "      <td>0.000000</td>\n",
       "      <td>94819.27</td>\n",
       "      <td>0.0</td>\n",
       "      <td>0.000000</td>\n",
       "      <td>586.900</td>\n",
       "      <td>0.0</td>\n",
       "      <td>0.000000</td>\n",
       "      <td>87.570</td>\n",
       "      <td>0.0</td>\n",
       "    </tr>\n",
       "    <tr>\n",
       "      <th>1</th>\n",
       "      <td>2025-01-01 00:00:00</td>\n",
       "      <td>1.000000e+06</td>\n",
       "      <td>1000000.000000</td>\n",
       "      <td>0.000000</td>\n",
       "      <td>94819.27</td>\n",
       "      <td>0.0</td>\n",
       "      <td>0.000000</td>\n",
       "      <td>586.900</td>\n",
       "      <td>0.0</td>\n",
       "      <td>0.000000</td>\n",
       "      <td>87.570</td>\n",
       "      <td>0.0</td>\n",
       "    </tr>\n",
       "    <tr>\n",
       "      <th>2</th>\n",
       "      <td>2025-01-01 00:30:00</td>\n",
       "      <td>1.000000e+06</td>\n",
       "      <td>1000000.000000</td>\n",
       "      <td>0.000000</td>\n",
       "      <td>94687.97</td>\n",
       "      <td>0.0</td>\n",
       "      <td>0.000000</td>\n",
       "      <td>587.060</td>\n",
       "      <td>0.0</td>\n",
       "      <td>0.000000</td>\n",
       "      <td>87.575</td>\n",
       "      <td>0.0</td>\n",
       "    </tr>\n",
       "    <tr>\n",
       "      <th>3</th>\n",
       "      <td>2025-01-01 01:00:00</td>\n",
       "      <td>1.000000e+06</td>\n",
       "      <td>1000000.000000</td>\n",
       "      <td>0.000000</td>\n",
       "      <td>94358.80</td>\n",
       "      <td>0.0</td>\n",
       "      <td>0.000000</td>\n",
       "      <td>585.860</td>\n",
       "      <td>0.0</td>\n",
       "      <td>0.000000</td>\n",
       "      <td>87.525</td>\n",
       "      <td>0.0</td>\n",
       "    </tr>\n",
       "    <tr>\n",
       "      <th>4</th>\n",
       "      <td>2025-01-01 01:30:00</td>\n",
       "      <td>1.000000e+06</td>\n",
       "      <td>1000000.000000</td>\n",
       "      <td>0.000000</td>\n",
       "      <td>93961.69</td>\n",
       "      <td>-0.5</td>\n",
       "      <td>0.000000</td>\n",
       "      <td>587.205</td>\n",
       "      <td>0.0</td>\n",
       "      <td>0.000000</td>\n",
       "      <td>87.610</td>\n",
       "      <td>0.0</td>\n",
       "    </tr>\n",
       "    <tr>\n",
       "      <th>...</th>\n",
       "      <td>...</td>\n",
       "      <td>...</td>\n",
       "      <td>...</td>\n",
       "      <td>...</td>\n",
       "      <td>...</td>\n",
       "      <td>...</td>\n",
       "      <td>...</td>\n",
       "      <td>...</td>\n",
       "      <td>...</td>\n",
       "      <td>...</td>\n",
       "      <td>...</td>\n",
       "      <td>...</td>\n",
       "    </tr>\n",
       "    <tr>\n",
       "      <th>2781</th>\n",
       "      <td>2025-02-27 22:00:00</td>\n",
       "      <td>1.170952e+06</td>\n",
       "      <td>11703.901711</td>\n",
       "      <td>0.402756</td>\n",
       "      <td>86264.48</td>\n",
       "      <td>0.0</td>\n",
       "      <td>1891.285538</td>\n",
       "      <td>0.000</td>\n",
       "      <td>NaN</td>\n",
       "      <td>0.234949</td>\n",
       "      <td>0.000</td>\n",
       "      <td>NaN</td>\n",
       "    </tr>\n",
       "    <tr>\n",
       "      <th>2782</th>\n",
       "      <td>2025-02-27 22:30:00</td>\n",
       "      <td>1.165752e+06</td>\n",
       "      <td>11703.901711</td>\n",
       "      <td>0.402756</td>\n",
       "      <td>84906.03</td>\n",
       "      <td>0.0</td>\n",
       "      <td>1891.285538</td>\n",
       "      <td>592.100</td>\n",
       "      <td>0.0</td>\n",
       "      <td>0.234949</td>\n",
       "      <td>91.660</td>\n",
       "      <td>0.0</td>\n",
       "    </tr>\n",
       "    <tr>\n",
       "      <th>2783</th>\n",
       "      <td>2025-02-27 23:00:00</td>\n",
       "      <td>1.172289e+06</td>\n",
       "      <td>11703.901711</td>\n",
       "      <td>0.402756</td>\n",
       "      <td>85593.73</td>\n",
       "      <td>0.0</td>\n",
       "      <td>1891.285538</td>\n",
       "      <td>595.410</td>\n",
       "      <td>0.0</td>\n",
       "      <td>0.234949</td>\n",
       "      <td>91.429</td>\n",
       "      <td>0.0</td>\n",
       "    </tr>\n",
       "    <tr>\n",
       "      <th>2784</th>\n",
       "      <td>2025-02-27 23:30:00</td>\n",
       "      <td>1.168465e+06</td>\n",
       "      <td>11703.901711</td>\n",
       "      <td>0.402756</td>\n",
       "      <td>85443.53</td>\n",
       "      <td>0.0</td>\n",
       "      <td>1891.285538</td>\n",
       "      <td>593.420</td>\n",
       "      <td>0.0</td>\n",
       "      <td>0.234949</td>\n",
       "      <td>91.440</td>\n",
       "      <td>0.0</td>\n",
       "    </tr>\n",
       "    <tr>\n",
       "      <th>2785</th>\n",
       "      <td>2025-02-28 00:00:00</td>\n",
       "      <td>1.169619e+06</td>\n",
       "      <td>11703.901711</td>\n",
       "      <td>0.402756</td>\n",
       "      <td>84835.11</td>\n",
       "      <td>0.0</td>\n",
       "      <td>1891.285538</td>\n",
       "      <td>594.160</td>\n",
       "      <td>0.0</td>\n",
       "      <td>0.234949</td>\n",
       "      <td>91.465</td>\n",
       "      <td>0.0</td>\n",
       "    </tr>\n",
       "  </tbody>\n",
       "</table>\n",
       "<p>2786 rows × 12 columns</p>\n",
       "</div>"
      ],
      "text/plain": [
       "                    Date  PortfolioValue       CashAlloc  BTCAlloc  BTCPrice  \\\n",
       "0    2025-01-01 00:00:00    1.000000e+06  1000000.000000  0.000000  94819.27   \n",
       "1    2025-01-01 00:00:00    1.000000e+06  1000000.000000  0.000000  94819.27   \n",
       "2    2025-01-01 00:30:00    1.000000e+06  1000000.000000  0.000000  94687.97   \n",
       "3    2025-01-01 01:00:00    1.000000e+06  1000000.000000  0.000000  94358.80   \n",
       "4    2025-01-01 01:30:00    1.000000e+06  1000000.000000  0.000000  93961.69   \n",
       "...                  ...             ...             ...       ...       ...   \n",
       "2781 2025-02-27 22:00:00    1.170952e+06    11703.901711  0.402756  86264.48   \n",
       "2782 2025-02-27 22:30:00    1.165752e+06    11703.901711  0.402756  84906.03   \n",
       "2783 2025-02-27 23:00:00    1.172289e+06    11703.901711  0.402756  85593.73   \n",
       "2784 2025-02-27 23:30:00    1.168465e+06    11703.901711  0.402756  85443.53   \n",
       "2785 2025-02-28 00:00:00    1.169619e+06    11703.901711  0.402756  84835.11   \n",
       "\n",
       "      BTCSignal     SPYAlloc  SPYPrice  SPYSignal  TLTAlloc  TLTPrice  \\\n",
       "0           0.0     0.000000   586.900        0.0  0.000000    87.570   \n",
       "1           0.0     0.000000   586.900        0.0  0.000000    87.570   \n",
       "2           0.0     0.000000   587.060        0.0  0.000000    87.575   \n",
       "3           0.0     0.000000   585.860        0.0  0.000000    87.525   \n",
       "4          -0.5     0.000000   587.205        0.0  0.000000    87.610   \n",
       "...         ...          ...       ...        ...       ...       ...   \n",
       "2781        0.0  1891.285538     0.000        NaN  0.234949     0.000   \n",
       "2782        0.0  1891.285538   592.100        0.0  0.234949    91.660   \n",
       "2783        0.0  1891.285538   595.410        0.0  0.234949    91.429   \n",
       "2784        0.0  1891.285538   593.420        0.0  0.234949    91.440   \n",
       "2785        0.0  1891.285538   594.160        0.0  0.234949    91.465   \n",
       "\n",
       "      TLTSignal  \n",
       "0           0.0  \n",
       "1           0.0  \n",
       "2           0.0  \n",
       "3           0.0  \n",
       "4           0.0  \n",
       "...         ...  \n",
       "2781        NaN  \n",
       "2782        0.0  \n",
       "2783        0.0  \n",
       "2784        0.0  \n",
       "2785        0.0  \n",
       "\n",
       "[2786 rows x 12 columns]"
      ]
     },
     "execution_count": 60,
     "metadata": {},
     "output_type": "execute_result"
    }
   ],
   "source": [
    "backtesting_df_val"
   ]
  },
  {
   "cell_type": "code",
   "execution_count": 29,
   "metadata": {},
   "outputs": [],
   "source": [
    "#backtesting_df_val.to_csv(\"Bollinger_Bands_Val_Results.csv\")"
   ]
  },
  {
   "cell_type": "code",
   "execution_count": 61,
   "metadata": {},
   "outputs": [],
   "source": [
    "def spy_benchmark(spy_data, start_date, end_date):\n",
    "    \"\"\"Simulate performance of $1M fully invested in SPY\"\"\"\n",
    "    spy_subset = spy_data[(spy_data['Date'] >= start_date) & (spy_data['Date'] <= end_date)]\n",
    "    spy_returns = spy_subset['Close'].pct_change().fillna(0)\n",
    "    \n",
    "    value = 1000000\n",
    "    values = [value]\n",
    "    \n",
    "    for ret in spy_returns:\n",
    "        value *= (1 + ret)\n",
    "        values.append(value)\n",
    "    \n",
    "    return pd.DataFrame({\n",
    "        'Date': spy_subset['Date'],\n",
    "        'Value': values[:len(spy_subset)]\n",
    "    })\n",
    "\n",
    "\n",
    "\n",
    "def tbill_benchmark(start_date, end_date):\n",
    "    \"\"\"Simulate performance of $1M in 3-month Treasury Bill\"\"\"\n",
    "    dates = pd.date_range(start=start_date, end=end_date, freq='D')\n",
    "    daily_yield = (1 + TREASURY_YIELD) ** (1/365) - 1\n",
    "    \n",
    "    values = [INITIAL_CAPITAL * (1 + daily_yield) ** i for i in range(len(dates))]\n",
    "    \n",
    "    return pd.DataFrame({\n",
    "        'Date': dates,\n",
    "        'Value': values\n",
    "    })"
   ]
  },
  {
   "cell_type": "code",
   "execution_count": 62,
   "metadata": {},
   "outputs": [],
   "source": [
    "spy_portfolio = spy_benchmark(spy, datetime.datetime(2025, 1, 1), datetime.datetime(2025, 2, 28))\n",
    "btc_portfolio = spy_benchmark(btc, datetime.datetime(2025, 1, 1), datetime.datetime(2025, 2, 28))\n",
    "tlt_portfolio = spy_benchmark(tlt, datetime.datetime(2025, 1, 1), datetime.datetime(2025, 2, 28))"
   ]
  },
  {
   "cell_type": "code",
   "execution_count": 63,
   "metadata": {},
   "outputs": [
    {
     "name": "stdout",
     "output_type": "stream",
     "text": [
      "{'Sharpe': -1.0006657399322685, 'Max Drawdown': -0.23187373630796004, 'Total Return': -0.09888011160600885}\n",
      "{'Sharpe': 1.3606175842026091, 'Max Drawdown': -0.03911978808724692, 'Total Return': 0.011109217924689663}\n",
      "{'Sharpe': 5.049504025618218, 'Max Drawdown': -0.03562631754132861, 'Total Return': 0.04419321685508981}\n",
      "{'Sharpe': 5.163650719108775, 'Max Drawdown': -0.03450298689094278, 'Total Return': 0.16961945912037546}\n"
     ]
    }
   ],
   "source": [
    "print(calculate_metrics(btc_portfolio['Value']))\n",
    "print(calculate_metrics(spy_portfolio['Value']))\n",
    "print(calculate_metrics(tlt_portfolio['Value']))\n",
    "print(calculate_metrics(backtesting_df_val['PortfolioValue']))"
   ]
  },
  {
   "cell_type": "code",
   "execution_count": 64,
   "metadata": {},
   "outputs": [
    {
     "data": {
      "image/png": "[encoded data removed]",
      "text/plain": [
       "<Figure size 640x480 with 1 Axes>"
      ]
     },
     "metadata": {},
     "output_type": "display_data"
    }
   ],
   "source": [
    "plt.plot(backtesting_df_val['Date'], backtesting_df_val['PortfolioValue'], label = 'Portfolio Strategy', alpha = 0.5)\n",
    "plt.plot(spy_portfolio['Date'], spy_portfolio['Value'], label = 'SPY benchmark', alpha = 0.5)\n",
    "plt.plot(btc_portfolio['Date'], btc_portfolio['Value'], label = 'BTC benchmark', alpha = 0.5)\n",
    "plt.plot(tlt_portfolio['Date'], tlt_portfolio['Value'], label = 'TLT benchmark', alpha = 0.5)\n",
    "plt.xticks(rotation=45)\n",
    "plt.legend()\n",
    "plt.show()"
   ]
  },
  {
   "cell_type": "markdown",
   "metadata": {},
   "source": [
    "# Testing period"
   ]
  },
  {
   "cell_type": "code",
   "execution_count": 52,
   "metadata": {},
   "outputs": [
    {
     "name": "stdout",
     "output_type": "stream",
     "text": [
      "[2025-03-09 22:00:00] Stop-loss triggered on BTC\n",
      "23067.96882429232\n"
     ]
    }
   ],
   "source": [
    "backtesting_df_march = backtest_bb_strategy(btc, spy, tlt, datetime.datetime(2025, 3, 1), datetime.datetime(2025, 4, 2))"
   ]
  },
  {
   "cell_type": "markdown",
   "metadata": {},
   "source": [
    "### Calculate trade-related metrics -- win rate"
   ]
  },
  {
   "cell_type": "code",
   "execution_count": null,
   "metadata": {},
   "outputs": [],
   "source": [
    "metric_calc = backtesting_df_march.copy()\n",
    "\n",
    "# BTC win rate calculation\n",
    "metric_calc['BTCEntry'] = (metric_calc['BTCAlloc'].shift(1) * metric_calc['BTCPrice'].shift(1) + metric_calc['BTCAlloc'] * metric_calc['BTCPrice']) / (metric_calc['BTCAlloc'].shift(1) + metric_calc['BTCAlloc'])\n",
    "# Calculate Realized PnL for sell trades\n",
    "metric_calc['BTCSold'] = (metric_calc['BTCAlloc'].shift(1) -metric_calc['BTCAlloc']).clip(lower=0)\n",
    "metric_calc['BTCRealizedPnl'] = (metric_calc['BTCPrice'] - metric_calc['BTCEntry']) * metric_calc['BTCSold']\n",
    "\n",
    "btc_profitable_trades = metric_calc[metric_calc['BTCRealizedPnl'] > 0]  # Trades with positive PnL\n",
    "btc_total_trades = len(metric_calc[metric_calc['BTCSold'] > 0])  # Total trades where quantity_sold > 0\n",
    "btc_win_rate = len(metric_calc[metric_calc['BTCRealizedPnl'] > 0]) / btc_total_trades\n",
    "\n",
    "# SPY win rate calculation\n",
    "metric_calc['SPYEntry'] = (metric_calc['SPYAlloc'].shift(1) * metric_calc['SPYPrice'].shift(1) + metric_calc['SPYAlloc'] * metric_calc['SPYPrice']) / (metric_calc['SPYAlloc'].shift(1) + metric_calc['SPYAlloc'])\n",
    "# Calculate Realized PnL for sell trades\n",
    "metric_calc['SPYSold'] = (metric_calc['SPYAlloc'].shift(1) -metric_calc['SPYAlloc']).clip(lower=0)\n",
    "metric_calc['SPYRealizedPnl'] = (metric_calc['SPYPrice'] - metric_calc['SPYEntry']) * metric_calc['SPYSold']\n",
    "\n",
    "spy_profitable_trades = metric_calc[metric_calc['SPYRealizedPnl'] > 0]  # Trades with positive PnL\n",
    "spy_total_trades = len(metric_calc[metric_calc['SPYSold'] > 0])  # Total trades where quantity_sold > 0\n",
    "spy_win_rate = len(metric_calc[metric_calc['SPYRealizedPnl'] > 0]) / spy_total_trades\n",
    "\n",
    "# TLT win rate calculation\n",
    "metric_calc['TLTEntry'] = (metric_calc['TLTAlloc'].shift(1) * metric_calc['TLTPrice'].shift(1) + metric_calc['TLTAlloc'] * metric_calc['TLTPrice']) / (metric_calc['TLTAlloc'].shift(1) + metric_calc['TLTAlloc'])\n",
    "# Calculate Realized PnL for sell trades\n",
    "metric_calc['TLTSold'] = (metric_calc['TLTAlloc'].shift(1) -metric_calc['TLTAlloc']).clip(lower=0)\n",
    "metric_calc['TLTRealizedPnl'] = (metric_calc['TLTPrice'] - metric_calc['TLTEntry']) * metric_calc['TLTSold']\n",
    "\n",
    "tlt_profitable_trades = metric_calc[metric_calc['TLTRealizedPnl'] > 0]  # Trades with positive PnL\n",
    "tlt_total_trades = len(metric_calc[metric_calc['TLTSold'] > 0])  # Total trades where quantity_sold > 0\n",
    "tlt_win_rate = len(metric_calc[metric_calc['TLTRealizedPnl'] > 0]) / tlt_total_trades\n",
    "\n",
    "print(btc_win_rate)\n",
    "print(spy_win_rate)\n",
    "print(tlt_win_rate)\n",
    "\n",
    "# Total win rate calculation\n",
    "total_win_rate = (len(btc_profitable_trades) + len(spy_profitable_trades) + len(tlt_profitable_trades)) / (btc_total_trades + spy_total_trades + tlt_total_trades)\n",
    "print(f\"Win rate: {total_win_rate}\")"
   ]
  },
  {
   "cell_type": "markdown",
   "metadata": {},
   "source": [
    "### Calculate trade-related metrics -- profit per trade"
   ]
  },
  {
   "cell_type": "code",
   "execution_count": 95,
   "metadata": {},
   "outputs": [
    {
     "name": "stdout",
     "output_type": "stream",
     "text": [
      "26.845229909399134\n",
      "37.48431889515972\n",
      "106.11032852767013\n",
      "Total profit per trade: 31.692577204679495\n"
     ]
    }
   ],
   "source": [
    "metric_calc['BTCProfitPerTrade'] = (metric_calc['BTCPrice'] - metric_calc['BTCEntry']) * metric_calc['BTCSold']\n",
    "btc_profit_per_trade = metric_calc['BTCProfitPerTrade'].sum() / btc_total_trades\n",
    "\n",
    "metric_calc['SPYProfitPerTrade'] = (metric_calc['SPYPrice'] - metric_calc['SPYEntry']) * metric_calc['SPYSold']\n",
    "spy_profit_per_trade = metric_calc['SPYProfitPerTrade'].sum() / spy_total_trades\n",
    "\n",
    "metric_calc['TLTProfitPerTrade'] = (metric_calc['TLTPrice'] - metric_calc['TLTEntry']) * metric_calc['TLTSold']\n",
    "tlt_profit_per_trade = metric_calc['TLTProfitPerTrade'].sum() / tlt_total_trades\n",
    "\n",
    "print(btc_profit_per_trade)\n",
    "print(spy_profit_per_trade)\n",
    "print(tlt_profit_per_trade)\n",
    "\n",
    "total_profit_per_trade = (metric_calc['BTCProfitPerTrade'].sum() + metric_calc['SPYProfitPerTrade'].sum() + metric_calc['TLTProfitPerTrade'].sum()) / (btc_total_trades + spy_total_trades + tlt_total_trades)\n",
    "print(f\"Total profit per trade: {total_profit_per_trade}\")"
   ]
  },
  {
   "cell_type": "code",
   "execution_count": 54,
   "metadata": {},
   "outputs": [],
   "source": [
    "spy_portfolio1 = spy_benchmark(spy, datetime.datetime(2025, 3, 1), datetime.datetime(2025, 4, 2))\n",
    "btc_portfolio1 = spy_benchmark(btc, datetime.datetime(2025, 3, 1), datetime.datetime(2025, 4, 2))\n",
    "tlt_portfolio1 = spy_benchmark(tlt, datetime.datetime(2025, 3, 1), datetime.datetime(2025, 4, 2))"
   ]
  },
  {
   "cell_type": "code",
   "execution_count": 55,
   "metadata": {},
   "outputs": [
    {
     "name": "stdout",
     "output_type": "stream",
     "text": [
      "{'Sharpe': 0.6780808355177596, 'Max Drawdown': -0.1814755373140623, 'Total Return': 0.020055833826436276}\n",
      "{'Sharpe': -5.1122178728116126, 'Max Drawdown': -0.07491456372788108, 'Total Return': -0.04152373150376065}\n",
      "{'Sharpe': -0.46724098529815655, 'Max Drawdown': -0.04259109311740983, 'Total Return': -0.003318283196432903}\n",
      "{'Sharpe': 5.337732627136428, 'Max Drawdown': -0.07202260700477359, 'Total Return': 0.1457569457321526}\n"
     ]
    }
   ],
   "source": [
    "print(calculate_metrics(btc_portfolio1['Value']))\n",
    "print(calculate_metrics(spy_portfolio1['Value']))\n",
    "print(calculate_metrics(tlt_portfolio1['Value']))\n",
    "print(calculate_metrics(backtesting_df_march['PortfolioValue']))"
   ]
  },
  {
   "cell_type": "code",
   "execution_count": 56,
   "metadata": {},
   "outputs": [
    {
     "data": {
      "image/png": "[encoded data removed]",
      "text/plain": [
       "<Figure size 640x480 with 1 Axes>"
      ]
     },
     "metadata": {},
     "output_type": "display_data"
    }
   ],
   "source": [
    "plt.plot(backtesting_df_march['Date'], backtesting_df_march['PortfolioValue'], label = 'Portfolio Strategy', alpha=0.7)\n",
    "plt.plot(spy_portfolio1['Date'], spy_portfolio1['Value'], label = 'SPY benchmark', alpha=0.5)\n",
    "plt.plot(btc_portfolio1['Date'], btc_portfolio1['Value'], label = 'BTC benchmark', alpha=0.5)\n",
    "plt.plot(tlt_portfolio1['Date'], tlt_portfolio1['Value'], label = 'TLT benchmark', alpha=0.5)\n",
    "plt.xticks(rotation=45)\n",
    "plt.legend()\n",
    "plt.show()"
   ]
  },
  {
   "cell_type": "markdown",
   "metadata": {},
   "source": [
    "## Other metric calculation for test period"
   ]
  },
  {
   "cell_type": "code",
   "execution_count": null,
   "metadata": {},
   "outputs": [
    {
     "name": "stdout",
     "output_type": "stream",
     "text": [
      "Annualized Return: 4.1181\n"
     ]
    }
   ],
   "source": [
    "# Assuming portfolio_values contains the portfolio values at the start and end of the month\n",
    "V_t = backtesting_df_march['PortfolioValue'].iloc[0]  # Start of month value\n",
    "V_t1 = backtesting_df_march['PortfolioValue'].iloc[-1]  # End of month value\n",
    "\n",
    "# Calculate monthly return\n",
    "R_monthly = (V_t1 / V_t) - 1\n",
    "\n",
    "# Annualized return\n",
    "R_annualized = (1 + R_monthly) ** 12 - 1\n",
    "print(f\"Annualized Return: {R_annualized:.4f}\")"
   ]
  },
  {
   "cell_type": "code",
   "execution_count": 88,
   "metadata": {},
   "outputs": [
    {
     "name": "stdout",
     "output_type": "stream",
     "text": [
      "Annualized volatility: 0.2952454303787145\n"
     ]
    }
   ],
   "source": [
    "backtesting_df_march['Returns'] = backtesting_df_march['PortfolioValue'].pct_change()\n",
    "volatility_30min = backtesting_df_march['Returns'].std()\n",
    "annual_volatility = volatility_30min * np.sqrt(48*356)\n",
    "print(f\"Annualized volatility: {annual_volatility}\")"
   ]
  },
  {
   "cell_type": "code",
   "execution_count": 87,
   "metadata": {},
   "outputs": [
    {
     "name": "stdout",
     "output_type": "stream",
     "text": [
      "Annualized return: 3.7413391199141817\n"
     ]
    }
   ],
   "source": [
    "# Average 30-minute return\n",
    "mean_30min_return = backtesting_df_march['Returns'].mean()\n",
    "\n",
    "# Convert to annual return\n",
    "annualized_return = (1 + mean_30min_return) ** (48*356) - 1  \n",
    "print(f\"Annualized return: {annualized_return}\")"
   ]
  },
  {
   "cell_type": "code",
   "execution_count": null,
   "metadata": {},
   "outputs": [
    {
     "name": "stdout",
     "output_type": "stream",
     "text": [
      "Number of drawdown periods: 31\n"
     ]
    }
   ],
   "source": [
    "backtesting_df_march['CumMax'] = backtesting_df_march['PortfolioValue'].cummax()  # Highest portfolio value seen so far\n",
    "backtesting_df_march['Drawdown'] = (backtesting_df_march['PortfolioValue'] - backtesting_df_march['CumMax']) / backtesting_df_march['CumMax']\n",
    "\n",
    "backtesting_df_march['InDrawdown'] = backtesting_df_march['Drawdown'] < 0  # True when in drawdown\n",
    "backtesting_df_march['DrawdownStart'] = (~backtesting_df_march['InDrawdown'].shift(1, fill_value=False)) & backtesting_df_march['InDrawdown']  # First entry into drawdown\n",
    "\n",
    "num_drawdowns = backtesting_df_march['DrawdownStart'].sum()\n",
    "print(f\"Number of drawdown periods: {num_drawdowns}\")"
   ]
  }
 ],
 "metadata": {
  "kernelspec": {
   "display_name": "base",
   "language": "python",
   "name": "python3"
  },
  "language_info": {
   "codemirror_mode": {
    "name": "ipython",
    "version": 3
   },
   "file_extension": ".py",
   "mimetype": "text/x-python",
   "name": "python",
   "nbconvert_exporter": "python",
   "pygments_lexer": "ipython3",
   "version": "3.10.9"
  }
 },
 "nbformat": 4,
 "nbformat_minor": 2
}
